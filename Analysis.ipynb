{
 "cells": [
  {
   "cell_type": "markdown",
   "metadata": {},
   "source": [
    "# AN ANALYSIS OF MY LINKEDIN CONNECTIONSS, THE COMPANIES THEY WORK AT AND THE POSITIONS THEY HOLD\n",
    "\n",
    "## By: Urias, Triumph"
   ]
  },
  {
   "cell_type": "markdown",
   "metadata": {},
   "source": [
    "### Importing Libraries"
   ]
  },
  {
   "cell_type": "code",
   "execution_count": 1,
   "metadata": {},
   "outputs": [],
   "source": [
    "# Install libraries\n",
    "\n",
    "from multiprocessing.spawn import import_main_path\n",
    "import pandas as pd\n",
    "import janitor\n",
    "import datetime\n",
    "\n",
    "import seaborn as sns\n",
    "import matplotlib.pyplot as plt\n",
    "from IPython.core.display import display, HTML\n",
    "from pyvis import network as net\n",
    "import networkx as nx\n",
    "\n",
    "import os"
   ]
  },
  {
   "cell_type": "markdown",
   "metadata": {},
   "source": [
    "### Data Loading"
   ]
  },
  {
   "cell_type": "code",
   "execution_count": 2,
   "metadata": {},
   "outputs": [
    {
     "name": "stdout",
     "output_type": "stream",
     "text": [
      "<class 'pandas.core.frame.DataFrame'>\n",
      "RangeIndex: 723 entries, 0 to 722\n",
      "Data columns (total 6 columns):\n",
      " #   Column         Non-Null Count  Dtype \n",
      "---  ------         --------------  ----- \n",
      " 0   First Name     714 non-null    object\n",
      " 1   Last Name      714 non-null    object\n",
      " 2   Email Address  17 non-null     object\n",
      " 3   Company        674 non-null    object\n",
      " 4   Position       675 non-null    object\n",
      " 5   Connected On   723 non-null    object\n",
      "dtypes: object(6)\n",
      "memory usage: 34.0+ KB\n"
     ]
    }
   ],
   "source": [
    "pwd = os.getcwd()\n",
    "\n",
    "df_ori = pd.read_csv(pwd +\"/DataSet/Connections.csv\", skiprows = 2)\n",
    "\n",
    "df = df_ori.copy()\n",
    "df.info()"
   ]
  },
  {
   "cell_type": "code",
   "execution_count": 3,
   "metadata": {},
   "outputs": [
    {
     "name": "stdout",
     "output_type": "stream",
     "text": [
      "First Name has a total of 9 missing values.\n",
      "Last Name has a total of 9 missing values.\n",
      "Email Address has a total of 706 missing values.\n",
      "Company has a total of 49 missing values.\n",
      "Position has a total of 48 missing values.\n",
      " \n",
      "Of your 6 columns, you have a total of 5 columns with missing values.\n"
     ]
    }
   ],
   "source": [
    "def missing_values(df):\n",
    "\n",
    "    missing_values_count = 0\n",
    "    columns_count = 0 \n",
    "\n",
    "    for col in df.columns:\n",
    "\n",
    "        if df[col].isnull().any():\n",
    "            columns_count += 1\n",
    "            missing_values_count += df[col].isnull().sum()\n",
    "            print(f\"{col} has a total of {missing_values_count} missing values.\")\n",
    "        missing_values_count = 0\n",
    "    \n",
    "    print(\" \")\n",
    "    if columns_count != 0:\n",
    "        print(f\"Of your {df.shape[1]} columns, you have a total of {columns_count} columns with missing values.\")\n",
    "\n",
    "missing_values(df)       "
   ]
  },
  {
   "cell_type": "code",
   "execution_count": 4,
   "metadata": {},
   "outputs": [
    {
     "name": "stdout",
     "output_type": "stream",
     "text": [
      "First Name has 1.24% of its values missing.\n",
      "Last Name has 1.24% of its values missing.\n",
      "Email Address has 97.65% of its values missing.\n",
      "Company has 6.78% of its values missing.\n",
      "Position has 6.64% of its values missing.\n"
     ]
    }
   ],
   "source": [
    "def perce_missing_vals(df):\n",
    "\n",
    "    for col in df.columns:\n",
    "\n",
    "        if df[col].isnull().any():\n",
    "            pct = (df[col].isnull().sum() / len(df[col]) * 100).round(2)\n",
    "            print(f\"{col} has {pct}% of its values missing.\")\n",
    "\n",
    "perce_missing_vals(df)"
   ]
  },
  {
   "cell_type": "code",
   "execution_count": 5,
   "metadata": {},
   "outputs": [
    {
     "data": {
      "image/png": "[encoded data removed]",
      "text/plain": [
       "<Figure size 1080x576 with 2 Axes>"
      ]
     },
     "metadata": {
      "needs_background": "light"
     },
     "output_type": "display_data"
    }
   ],
   "source": [
    "plt.figure(figsize=[15, 8])\n",
    "\n",
    "plt.title(\"Location of Missing Values Across Columns in DataSet.\", fontsize = 20)\n",
    "\n",
    "sns.heatmap(df.isnull(), yticklabels = False, cmap = 'viridis', cbar=True);"
   ]
  },
  {
   "cell_type": "markdown",
   "metadata": {},
   "source": [
    "**Insight 1:** 9 of my connections have no names. This is strange. \n",
    "\n",
    "**Insight 2:** A good majority of my connections didn't include their email addresses on their profile. Not encouraged.\n",
    "\n",
    "**Question:** How could there be connections with no names? Could those represent deleted accouunts?"
   ]
  },
  {
   "cell_type": "markdown",
   "metadata": {},
   "source": [
    "### Data Cleaning"
   ]
  },
  {
   "cell_type": "code",
   "execution_count": 6,
   "metadata": {},
   "outputs": [
    {
     "name": "stdout",
     "output_type": "stream",
     "text": [
      "<class 'pandas.core.frame.DataFrame'>\n",
      "Int64Index: 674 entries, 0 to 722\n",
      "Data columns (total 3 columns):\n",
      " #   Column        Non-Null Count  Dtype         \n",
      "---  ------        --------------  -----         \n",
      " 0   company       674 non-null    object        \n",
      " 1   position      674 non-null    object        \n",
      " 2   connected_on  674 non-null    datetime64[ns]\n",
      "dtypes: datetime64[ns](1), object(2)\n",
      "memory usage: 21.1+ KB\n"
     ]
    }
   ],
   "source": [
    "# Drop name columns for ethical reasons.\n",
    "\n",
    "# Drop email address column because it has too many null values and is not necessary for this project\n",
    "\n",
    "df=(\n",
    "    df\n",
    "    .clean_names()\n",
    "    .drop(columns= [\"first_name\", \"last_name\", \"email_address\"])\n",
    "    .dropna(subset = [\"company\", \"position\"]) # Drop rows where company and/ or position had missing values. \n",
    "    .to_datetime(\"connected_on\", format = \"%d %b %Y\") # Convert connected_on column to datetime datatype.\n",
    ")\n",
    "\n",
    "df.info()"
   ]
  },
  {
   "cell_type": "markdown",
   "metadata": {},
   "source": [
    "**In the end, I'm working with only 674 of my connections.**"
   ]
  },
  {
   "cell_type": "code",
   "execution_count": 7,
   "metadata": {},
   "outputs": [
    {
     "data": {
      "image/png": "[encoded data removed]",
      "text/plain": [
       "<Figure size 1080x576 with 1 Axes>"
      ]
     },
     "metadata": {
      "needs_background": "light"
     },
     "output_type": "display_data"
    }
   ],
   "source": [
    "plt.figure(figsize = [15, 8])\n",
    "\n",
    "plt.title(\"Connection Activity Distrtibution Across the Years\", fontsize = 20)\n",
    "\n",
    "df[\"connected_on\"].hist();"
   ]
  },
  {
   "cell_type": "markdown",
   "metadata": {},
   "source": [
    "**Insight 3:** I joined LinkedIn in 2015. This was first year in Covenant University. I believe it had something to do with the inspirational people I met in the Technical Crew service Unit.\n",
    "\n",
    "**Insight 4:** First spike of connection activity in 2018. This should be because I was trying to get an internship ooportunity around that time.\n",
    "\n",
    "**Insight 5:** Second spike of connection activity in 2020. Convocation and job search.\n",
    "\n",
    "**Insight 6:** Third spike of connection activity, 2022. Job search and connection to learn more and add value to myself and those I connect with.\n"
   ]
  },
  {
   "cell_type": "markdown",
   "metadata": {},
   "source": [
    "### Exploratory Data Analysis"
   ]
  },
  {
   "cell_type": "code",
   "execution_count": 8,
   "metadata": {},
   "outputs": [
    {
     "data": {
      "image/png": "[encoded data removed]",
      "text/plain": [
       "<Figure size 1080x576 with 1 Axes>"
      ]
     },
     "metadata": {
      "needs_background": "light"
     },
     "output_type": "display_data"
    }
   ],
   "source": [
    "# Simple EDA\n",
    "\n",
    "plt.figure(figsize = [15, 8])\n",
    "\n",
    "df[\"company\"].value_counts(ascending = False).head(10).plot(\n",
    "    kind = \"barh\"\n",
    ").invert_yaxis();\n",
    "plt.title(\"Top 10 Companies I'm Connected To\", fontsize = 20)\n",
    "plt.xlabel(\"Number of Connections\")\n",
    "plt.ylabel(\"Company\");"
   ]
  },
  {
   "cell_type": "markdown",
   "metadata": {},
   "source": [
    "**Insight 7:** Most of my connections are from Covenant University. Makes sense as I spent 5 years of my life interacting wth these people and that community was a major force for my joining and being active on LinkedIn."
   ]
  },
  {
   "cell_type": "code",
   "execution_count": 9,
   "metadata": {},
   "outputs": [],
   "source": [
    "#Remove freelancers and self-employed connections.\n",
    "\n",
    "pattern = \"freelance|self-employed\"\n",
    "\n",
    "df=df[~df[\"company\"].str.contains(pattern, case = False)]"
   ]
  },
  {
   "cell_type": "code",
   "execution_count": 18,
   "metadata": {},
   "outputs": [
    {
     "data": {
      "image/png": "[encoded data removed]",
      "text/plain": [
       "<Figure size 1080x576 with 1 Axes>"
      ]
     },
     "metadata": {
      "needs_background": "light"
     },
     "output_type": "display_data"
    }
   ],
   "source": [
    "\n",
    "plt.figure(figsize = (15, 8))\n",
    "\n",
    "df[\"company\"].value_counts(ascending = False).head(10).plot(\n",
    "    kind = \"barh\"\n",
    ").invert_yaxis();\n",
    "plt.title(\"Top 10 Companies I'm Connected To\", fontsize = 20)\n",
    "plt.xlabel(\"Number of Connections\")\n",
    "plt.ylabel(\"Company\");"
   ]
  },
  {
   "cell_type": "code",
   "execution_count": 19,
   "metadata": {},
   "outputs": [
    {
     "data": {
      "image/png": "[encoded data removed]",
      "text/plain": [
       "<Figure size 1080x576 with 1 Axes>"
      ]
     },
     "metadata": {
      "needs_background": "light"
     },
     "output_type": "display_data"
    }
   ],
   "source": [
    "\n",
    "plt.figure(figsize = (15, 8))\n",
    "\n",
    "df[\"position\"].value_counts(ascending = False).head(10).plot(\n",
    "    kind = \"barh\"\n",
    ").invert_yaxis();\n",
    "plt.title(\"Top 10 Positions Held By My Connections\", fontsize = 20)\n",
    "plt.xlabel(\"Number of Connections\")\n",
    "plt.ylabel(\"Positionn\");"
   ]
  },
  {
   "cell_type": "markdown",
   "metadata": {},
   "source": [
    "**Insight 8:** Most of my connections are interns. I should work on that."
   ]
  },
  {
   "cell_type": "markdown",
   "metadata": {},
   "source": [
    "## Visualize Company Connections"
   ]
  },
  {
   "cell_type": "code",
   "execution_count": 12,
   "metadata": {},
   "outputs": [
    {
     "data": {
      "text/html": [
       "<div>\n",
       "<style scoped>\n",
       "    .dataframe tbody tr th:only-of-type {\n",
       "        vertical-align: middle;\n",
       "    }\n",
       "\n",
       "    .dataframe tbody tr th {\n",
       "        vertical-align: top;\n",
       "    }\n",
       "\n",
       "    .dataframe thead th {\n",
       "        text-align: right;\n",
       "    }\n",
       "</style>\n",
       "<table border=\"1\" class=\"dataframe\">\n",
       "  <thead>\n",
       "    <tr style=\"text-align: right;\">\n",
       "      <th></th>\n",
       "      <th>company</th>\n",
       "      <th>count</th>\n",
       "    </tr>\n",
       "  </thead>\n",
       "  <tbody>\n",
       "    <tr>\n",
       "      <th>0</th>\n",
       "      <td>Covenant University</td>\n",
       "      <td>15</td>\n",
       "    </tr>\n",
       "    <tr>\n",
       "      <th>1</th>\n",
       "      <td>Huawei</td>\n",
       "      <td>8</td>\n",
       "    </tr>\n",
       "    <tr>\n",
       "      <th>2</th>\n",
       "      <td>Nestlé</td>\n",
       "      <td>5</td>\n",
       "    </tr>\n",
       "    <tr>\n",
       "      <th>3</th>\n",
       "      <td>Aero Contractors of Nigeria Ltd</td>\n",
       "      <td>5</td>\n",
       "    </tr>\n",
       "    <tr>\n",
       "      <th>4</th>\n",
       "      <td>Verraki Africa</td>\n",
       "      <td>4</td>\n",
       "    </tr>\n",
       "    <tr>\n",
       "      <th>...</th>\n",
       "      <td>...</td>\n",
       "      <td>...</td>\n",
       "    </tr>\n",
       "    <tr>\n",
       "      <th>570</th>\n",
       "      <td>Goldenville Schools</td>\n",
       "      <td>1</td>\n",
       "    </tr>\n",
       "    <tr>\n",
       "      <th>571</th>\n",
       "      <td>SRAT</td>\n",
       "      <td>1</td>\n",
       "    </tr>\n",
       "    <tr>\n",
       "      <th>572</th>\n",
       "      <td>Quick Leap</td>\n",
       "      <td>1</td>\n",
       "    </tr>\n",
       "    <tr>\n",
       "      <th>573</th>\n",
       "      <td>Mozilla</td>\n",
       "      <td>1</td>\n",
       "    </tr>\n",
       "    <tr>\n",
       "      <th>574</th>\n",
       "      <td>Tehillah Productions</td>\n",
       "      <td>1</td>\n",
       "    </tr>\n",
       "  </tbody>\n",
       "</table>\n",
       "<p>575 rows × 2 columns</p>\n",
       "</div>"
      ],
      "text/plain": [
       "                             company  count\n",
       "0                Covenant University     15\n",
       "1                             Huawei      8\n",
       "2                             Nestlé      5\n",
       "3    Aero Contractors of Nigeria Ltd      5\n",
       "4                     Verraki Africa      4\n",
       "..                               ...    ...\n",
       "570              Goldenville Schools      1\n",
       "571                             SRAT      1\n",
       "572                       Quick Leap      1\n",
       "573                          Mozilla      1\n",
       "574             Tehillah Productions      1\n",
       "\n",
       "[575 rows x 2 columns]"
      ]
     },
     "execution_count": 12,
     "metadata": {},
     "output_type": "execute_result"
    }
   ],
   "source": [
    "# Aggregate the company column\n",
    "\n",
    "df_company = df[\"company\"].value_counts(ascending = False).reset_index()\n",
    "df_company.columns = [\"company\", \"count\"]\n",
    "df_company"
   ]
  },
  {
   "cell_type": "code",
   "execution_count": 13,
   "metadata": {},
   "outputs": [
    {
     "data": {
      "text/plain": [
       "(51, 2)"
      ]
     },
     "execution_count": 13,
     "metadata": {},
     "output_type": "execute_result"
    }
   ],
   "source": [
    "# Focus on companies with more than two counts.\n",
    "\n",
    "df_company_reduced = df_company.loc[df_company['count'] >= 2]\n",
    "df_company_reduced.shape"
   ]
  },
  {
   "cell_type": "code",
   "execution_count": 14,
   "metadata": {},
   "outputs": [
    {
     "data": {
      "text/html": [
       "<html>\n",
       "<head>\n",
       "<link rel=\"stylesheet\" href=\"https://cdn.jsdelivr.net/npm/vis-network@latest/styles/vis-network.css\" type=\"text/css\" />\n",
       "<script type=\"text/javascript\" src=\"https://cdn.jsdelivr.net/npm/vis-network@latest/dist/vis-network.min.js\"> </script>\n",
       "<center>\n",
       "<h1></h1>\n",
       "</center>\n",
       "\n",
       "<!-- <link rel=\"stylesheet\" href=\"../node_modules/vis/dist/vis.min.css\" type=\"text/css\" />\n",
       "<script type=\"text/javascript\" src=\"../node_modules/vis/dist/vis.js\"> </script>-->\n",
       "\n",
       "<style type=\"text/css\">\n",
       "\n",
       "        #mynetwork {\n",
       "            width: 1000px;\n",
       "            height: 700px;\n",
       "            background-color: black;\n",
       "            border: 1px solid lightgray;\n",
       "            position: relative;\n",
       "            float: left;\n",
       "        }\n",
       "\n",
       "        \n",
       "\n",
       "        \n",
       "\n",
       "        \n",
       "</style>\n",
       "\n",
       "</head>\n",
       "\n",
       "<body>\n",
       "<div id = \"mynetwork\"></div>\n",
       "\n",
       "\n",
       "<script type=\"text/javascript\">\n",
       "\n",
       "    // initialize global variables.\n",
       "    var edges;\n",
       "    var nodes;\n",
       "    var network; \n",
       "    var container;\n",
       "    var options, data;\n",
       "\n",
       "    \n",
       "    // This method is responsible for drawing the graph, returns the drawn network\n",
       "    function drawGraph() {\n",
       "        var container = document.getElementById('mynetwork');\n",
       "        \n",
       "        \n",
       "\n",
       "        // parsing and collecting nodes and edges from the python\n",
       "        nodes = new vis.DataSet([{\"font\": {\"color\": \"white\"}, \"id\": \"Me\", \"label\": \"Me\", \"shape\": \"dot\", \"size\": 10}, {\"color\": \"#3449eb\", \"font\": {\"color\": \"white\"}, \"id\": \"Covenant University\", \"label\": \"Covenant University\", \"shape\": \"dot\", \"size\": 30, \"title\": \" From, Covenant University you have 15 connections. These are their positions: \\nCovenant University Mechanical Engineering Student Association Chaplain \\nCommunity Development, Facilitation, and Research \\nPresident, CUMESA \\nFull Professor \\nGraduate \\nGraduate Research And Teaching Assistant \\nStudent \\nAssistant Welfare Secretary, CUMESA \\nComputer Technician \\nLecturer \\nProfessor of Communication Engineering | Head, loT-Enabled Smart \\u0026 Connected Communities Research \\nHead Of Department, Mechanical Engineering \\nStudent Worker \\nProfessor \\nCollege of Engineering Representative, Covenant University Student Council\"}, {\"color\": \"#3449eb\", \"font\": {\"color\": \"white\"}, \"id\": \"Huawei\", \"label\": \"Huawei\", \"shape\": \"dot\", \"size\": 16, \"title\": \" From, Huawei you have 8 connections. These are their positions: \\nProject Engineer \\nBack Office Data Communication Engineer \\nInternship Trainee \\nEngineer Intern \\nData Analyst \\nInformation Technology Infrastructure Engineer (Cloud Computing \\u0026 Data Storage) \\nProduct Engineer\"}, {\"color\": \"#3449eb\", \"font\": {\"color\": \"white\"}, \"id\": \"Nestl\\u00e9\", \"label\": \"Nestl\\u00e9\", \"shape\": \"dot\", \"size\": 10, \"title\": \" From, Nestl\\u00e9 you have 5 connections. These are their positions: \\nDistributor Development Data Analyst \\nEngineering Intern \\nHead, Fund Accounting- Nestle Nigeria Trust (CPFA) Limited \\nIntern \\nHuman Resources Intern\"}, {\"color\": \"#3449eb\", \"font\": {\"color\": \"white\"}, \"id\": \"Aero Contractors of Nigeria Ltd\", \"label\": \"Aero Contractors of Nigeria Ltd\", \"shape\": \"dot\", \"size\": 10, \"title\": \" From, Aero Contractors of Nigeria Ltd you have 5 connections. These are their positions: \\nMechanical Engineering Intern \\nIndustrial Trainee (Avionics) \\nAircraft Maintenance Engineering Intern \\nSafety and Quality  Inspector \\nOJT\"}, {\"color\": \"#3449eb\", \"font\": {\"color\": \"white\"}, \"id\": \"Verraki Africa\", \"label\": \"Verraki Africa\", \"shape\": \"dot\", \"size\": 8, \"title\": \" From, Verraki Africa you have 4 connections. These are their positions: \\nRPA Developer \\nExecutive Trainee \\nGraduate Trainee Associate -Technology Solutions \\nSolutions Analyst\"}, {\"color\": \"#3449eb\", \"font\": {\"color\": \"white\"}, \"id\": \"First Independent Power Limited Company\", \"label\": \"First Independent Power Limited Company\", \"shape\": \"dot\", \"size\": 6, \"title\": \" From, First Independent Power Limited Company you have 3 connections. These are their positions: \\nIntern \\nEngineering Intern\"}, {\"color\": \"#3449eb\", \"font\": {\"color\": \"white\"}, \"id\": \"Covenant University Finance Society (CUFS) \", \"label\": \"Covenant University Finance Society (CUFS) \", \"shape\": \"dot\", \"size\": 6, \"title\": \" From, Covenant University Finance Society (CUFS)  you have 3 connections. These are their positions: \\nVice President \\nAsst career development lead \\nManagement Consulting Team Lead\"}, {\"color\": \"#3449eb\", \"font\": {\"color\": \"white\"}, \"id\": \"Schlumberger\", \"label\": \"Schlumberger\", \"shape\": \"dot\", \"size\": 6, \"title\": \" From, Schlumberger you have 3 connections. These are their positions: \\nField Engineer \\nIntern \\nSAP Specialist \"}, {\"color\": \"#3449eb\", \"font\": {\"color\": \"white\"}, \"id\": \"KPMG Nigeria\", \"label\": \"KPMG Nigeria\", \"shape\": \"dot\", \"size\": 6, \"title\": \" From, KPMG Nigeria you have 3 connections. These are their positions: \\nManagement Consultant \\nAudit Intern \\nAudit Intern (Energy and Natural Resources)\"}, {\"color\": \"#3449eb\", \"font\": {\"color\": \"white\"}, \"id\": \"Tranos\", \"label\": \"Tranos\", \"shape\": \"dot\", \"size\": 6, \"title\": \" From, Tranos you have 3 connections. These are their positions: \\nProduct Manager \\nDesign Engineering Intern \\nJunior Production Engineer\"}, {\"color\": \"#3449eb\", \"font\": {\"color\": \"white\"}, \"id\": \"Infinion Technologies\", \"label\": \"Infinion Technologies\", \"shape\": \"dot\", \"size\": 6, \"title\": \" From, Infinion Technologies you have 3 connections. These are their positions: \\nFinance Officer \\nUI/UX Designer \\nCEO\"}, {\"color\": \"#3449eb\", \"font\": {\"color\": \"white\"}, \"id\": \"Helgg \", \"label\": \"Helgg \", \"shape\": \"dot\", \"size\": 6, \"title\": \" From, Helgg  you have 3 connections. These are their positions: \\nCo-Founder and Product Manager \\nVideo Editor \\nGraphic Designer\"}, {\"color\": \"#3449eb\", \"font\": {\"color\": \"white\"}, \"id\": \"Deloitte\", \"label\": \"Deloitte\", \"shape\": \"dot\", \"size\": 6, \"title\": \" From, Deloitte you have 3 connections. These are their positions: \\nRisk advisory \\nCyber Security Consultant \\nGovernance, Regulation \\u0026 Risk Associate\"}, {\"color\": \"#3449eb\", \"font\": {\"color\": \"white\"}, \"id\": \"EY\", \"label\": \"EY\", \"shape\": \"dot\", \"size\": 4, \"title\": \" From, EY you have 2 connections. These are their positions: \\nAssistant Manager, Strategy and Transactions \\nData \\u0026 Analytics Consultant\"}, {\"color\": \"#3449eb\", \"font\": {\"color\": \"white\"}, \"id\": \"Federal Mortgage Bank of Nigeria\", \"label\": \"Federal Mortgage Bank of Nigeria\", \"shape\": \"dot\", \"size\": 4, \"title\": \" From, Federal Mortgage Bank of Nigeria you have 2 connections. These are their positions: \\nLoan Officer \\nData Management Specialist\"}, {\"color\": \"#3449eb\", \"font\": {\"color\": \"white\"}, \"id\": \"Nigerian Breweries Plc\", \"label\": \"Nigerian Breweries Plc\", \"shape\": \"dot\", \"size\": 4, \"title\": \" From, Nigerian Breweries Plc you have 2 connections. These are their positions: \\nInformation Communication Intern \\nEngineering Intern\"}, {\"color\": \"#3449eb\", \"font\": {\"color\": \"white\"}, \"id\": \"Stallion Motors\", \"label\": \"Stallion Motors\", \"shape\": \"dot\", \"size\": 4, \"title\": \" From, Stallion Motors you have 2 connections. These are their positions: \\nService Advisor \\nMechanical Engineering Intern\"}, {\"color\": \"#3449eb\", \"font\": {\"color\": \"white\"}, \"id\": \"KPMG\", \"label\": \"KPMG\", \"shape\": \"dot\", \"size\": 4, \"title\": \" From, KPMG you have 2 connections. These are their positions: \\nSenior Consultant, Cyber Security \\nAudit Analyst\"}, {\"color\": \"#3449eb\", \"font\": {\"color\": \"white\"}, \"id\": \"Pertinence Group\", \"label\": \"Pertinence Group\", \"shape\": \"dot\", \"size\": 4, \"title\": \" From, Pertinence Group you have 2 connections. These are their positions: \\nBack-end Developer \\nGroup CEO\"}, {\"color\": \"#3449eb\", \"font\": {\"color\": \"white\"}, \"id\": \"Amazon Web Services (AWS)\", \"label\": \"Amazon Web Services (AWS)\", \"shape\": \"dot\", \"size\": 4, \"title\": \" From, Amazon Web Services (AWS) you have 2 connections. These are their positions: \\nProfessional Services \\nManager, Startup Solutions Architect\"}, {\"color\": \"#3449eb\", \"font\": {\"color\": \"white\"}, \"id\": \"Rehoboth Recruiters\", \"label\": \"Rehoboth Recruiters\", \"shape\": \"dot\", \"size\": 4, \"title\": \" From, Rehoboth Recruiters you have 2 connections. These are their positions: \\nExecutive Director-Talent Acquisition  \\nRecruitment Assistant\"}, {\"color\": \"#3449eb\", \"font\": {\"color\": \"white\"}, \"id\": \"Mar\\u0026Mor Engineering Services Ltd\", \"label\": \"Mar\\u0026Mor Engineering Services Ltd\", \"shape\": \"dot\", \"size\": 4, \"title\": \" From, Mar\\u0026Mor Engineering Services Ltd you have 2 connections. These are their positions: \\nQuality Assurance Quality Control \\nLead Estimator\"}, {\"color\": \"#3449eb\", \"font\": {\"color\": \"white\"}, \"id\": \"Goldman Sachs\", \"label\": \"Goldman Sachs\", \"shape\": \"dot\", \"size\": 4, \"title\": \" From, Goldman Sachs you have 2 connections. These are their positions: \\nAssociate \\nSoftware Engineer - Analyst\"}, {\"color\": \"#3449eb\", \"font\": {\"color\": \"white\"}, \"id\": \"Kohasa Engineering Company Limited\", \"label\": \"Kohasa Engineering Company Limited\", \"shape\": \"dot\", \"size\": 4, \"title\": \" From, Kohasa Engineering Company Limited you have 2 connections. These are their positions: \\nHuman Resource Officer \\nIndustrial Trainee\"}, {\"color\": \"#3449eb\", \"font\": {\"color\": \"white\"}, \"id\": \"Grow With Path\", \"label\": \"Grow With Path\", \"shape\": \"dot\", \"size\": 4, \"title\": \" From, Grow With Path you have 2 connections. These are their positions: \\nFounder \\nProduct Manager\"}, {\"color\": \"#3449eb\", \"font\": {\"color\": \"white\"}, \"id\": \"Crown Interactive Limited\", \"label\": \"Crown Interactive Limited\", \"shape\": \"dot\", \"size\": 4, \"title\": \" From, Crown Interactive Limited you have 2 connections. These are their positions: \\nBusiness Analyst \\nProduct Designer\"}, {\"color\": \"#3449eb\", \"font\": {\"color\": \"white\"}, \"id\": \"Montessori International Group Of Schools (M.I.S) PH\", \"label\": \"Montessori International Group Of Schools (M.I.S) PH\", \"shape\": \"dot\", \"size\": 4, \"title\": \" From, Montessori International Group Of Schools (M.I.S) PH you have 2 connections. These are their positions: \\nExecutive Management Associate \\nAdministrator (Senior Secondary Arm of the School)\"}, {\"color\": \"#3449eb\", \"font\": {\"color\": \"white\"}, \"id\": \"Chevron\", \"label\": \"Chevron\", \"shape\": \"dot\", \"size\": 4, \"title\": \" From, Chevron you have 2 connections. These are their positions: \\nInternship Trainee \\nTechnical Services Intern\"}, {\"color\": \"#3449eb\", \"font\": {\"color\": \"white\"}, \"id\": \"Aircom Nigeria Limited\", \"label\": \"Aircom Nigeria Limited\", \"shape\": \"dot\", \"size\": 4, \"title\": \" From, Aircom Nigeria Limited you have 2 connections. These are their positions: \\nPower Engineer \\nIT Support Specialist\"}, {\"color\": \"#3449eb\", \"font\": {\"color\": \"white\"}, \"id\": \"WorldQuant University\", \"label\": \"WorldQuant University\", \"shape\": \"dot\", \"size\": 4, \"title\": \" From, WorldQuant University you have 2 connections. These are their positions: \\nChief Data Scientist \\nTeaching Assistant\"}, {\"color\": \"#3449eb\", \"font\": {\"color\": \"white\"}, \"id\": \"Goldsprings High School\", \"label\": \"Goldsprings High School\", \"shape\": \"dot\", \"size\": 4, \"title\": \" From, Goldsprings High School you have 2 connections. These are their positions: \\nExecutive Secretary \\nTeacher\"}, {\"color\": \"#3449eb\", \"font\": {\"color\": \"white\"}, \"id\": \"UBA Group\", \"label\": \"UBA Group\", \"shape\": \"dot\", \"size\": 4, \"title\": \" From, UBA Group you have 2 connections. These are their positions: \\nTechnical Assistant: Directorate Head \\nIntern\"}, {\"color\": \"#3449eb\", \"font\": {\"color\": \"white\"}, \"id\": \"TeamApt\", \"label\": \"TeamApt\", \"shape\": \"dot\", \"size\": 4, \"title\": \" From, TeamApt you have 2 connections. These are their positions: \\nFrontend Engineer \\nExecutive Recruiter | Corporate HeadHunter\"}, {\"color\": \"#3449eb\", \"font\": {\"color\": \"white\"}, \"id\": \"Twitter\", \"label\": \"Twitter\", \"shape\": \"dot\", \"size\": 4, \"title\": \" From, Twitter you have 2 connections. These are their positions: \\nSoftware Engineer \\nSenior Product Marketing Manager - Global Consumer Products \"}, {\"color\": \"#3449eb\", \"font\": {\"color\": \"white\"}, \"id\": \"B54\", \"label\": \"B54\", \"shape\": \"dot\", \"size\": 4, \"title\": \" From, B54 you have 2 connections. These are their positions: \\nData Engineer \\nProduct Designer\"}, {\"color\": \"#3449eb\", \"font\": {\"color\": \"white\"}, \"id\": \"Hamoye.com\", \"label\": \"Hamoye.com\", \"shape\": \"dot\", \"size\": 4, \"title\": \" From, Hamoye.com you have 2 connections. These are their positions: \\nData Scientist \\nData Science Intern\"}, {\"color\": \"#3449eb\", \"font\": {\"color\": \"white\"}, \"id\": \"Ericsson\", \"label\": \"Ericsson\", \"shape\": \"dot\", \"size\": 4, \"title\": \" From, Ericsson you have 2 connections. These are their positions: \\nIntegration Engineer \\nIT System Expert (Intelligent Network)\"}, {\"color\": \"#3449eb\", \"font\": {\"color\": \"white\"}, \"id\": \"Port Harcourt Electricity Distribution Company\", \"label\": \"Port Harcourt Electricity Distribution Company\", \"shape\": \"dot\", \"size\": 4, \"title\": \" From, Port Harcourt Electricity Distribution Company you have 2 connections. These are their positions: \\nAssistant Workshop Manager (NYSC) \\nIntern\"}, {\"color\": \"#3449eb\", \"font\": {\"color\": \"white\"}, \"id\": \"expertnaire\", \"label\": \"expertnaire\", \"shape\": \"dot\", \"size\": 4, \"title\": \" From, expertnaire you have 2 connections. These are their positions: \\nDigital Marketing Specialist \\nAffiliate Marketing Specialist\"}, {\"color\": \"#3449eb\", \"font\": {\"color\": \"white\"}, \"id\": \"FirstBank Nigeria\", \"label\": \"FirstBank Nigeria\", \"shape\": \"dot\", \"size\": 4, \"title\": \" From, FirstBank Nigeria you have 2 connections. These are their positions: \\nBanking \\nStrategy Associate\"}, {\"color\": \"#3449eb\", \"font\": {\"color\": \"white\"}, \"id\": \"ECOWAS Commission\", \"label\": \"ECOWAS Commission\", \"shape\": \"dot\", \"size\": 4, \"title\": \" From, ECOWAS Commission you have 2 connections. These are their positions: \\nGraduate Intern \\nN.Y.S.C Intern\"}, {\"color\": \"#3449eb\", \"font\": {\"color\": \"white\"}, \"id\": \"Enactus Nigeria\", \"label\": \"Enactus Nigeria\", \"shape\": \"dot\", \"size\": 4, \"title\": \" From, Enactus Nigeria you have 2 connections. These are their positions: \\nTechnical Team Member Enactus Covenant University \\nEntrepreneur\"}, {\"color\": \"#3449eb\", \"font\": {\"color\": \"white\"}, \"id\": \"Bolt\", \"label\": \"Bolt\", \"shape\": \"dot\", \"size\": 4, \"title\": \" From, Bolt you have 2 connections. These are their positions: \\nOperations \\nOperations Coordinator\"}, {\"color\": \"#3449eb\", \"font\": {\"color\": \"white\"}, \"id\": \"Schneider Electric\", \"label\": \"Schneider Electric\", \"shape\": \"dot\", \"size\": 4, \"title\": \" From, Schneider Electric you have 2 connections. These are their positions: \\nProject Coordinator - Sustainable Development \\nProgram manager - Electricians Channel\"}, {\"color\": \"#3449eb\", \"font\": {\"color\": \"white\"}, \"id\": \"Rivers State University\", \"label\": \"Rivers State University\", \"shape\": \"dot\", \"size\": 4, \"title\": \" From, Rivers State University you have 2 connections. These are their positions: \\nNYSC Graduate Assistant Lecturer \\nAdministrative Assistant\"}, {\"color\": \"#3449eb\", \"font\": {\"color\": \"white\"}, \"id\": \"Foosion\", \"label\": \"Foosion\", \"shape\": \"dot\", \"size\": 4, \"title\": \" From, Foosion you have 2 connections. These are their positions: \\nChief Executive Officer \\nContent Writer\"}, {\"color\": \"#3449eb\", \"font\": {\"color\": \"white\"}, \"id\": \"Sterling Bank Plc\", \"label\": \"Sterling Bank Plc\", \"shape\": \"dot\", \"size\": 4, \"title\": \" From, Sterling Bank Plc you have 2 connections. These are their positions: \\nInternal Auditor \\nBusiness Intelligence Analyst\"}, {\"color\": \"#3449eb\", \"font\": {\"color\": \"white\"}, \"id\": \"NielsenIQ\", \"label\": \"NielsenIQ\", \"shape\": \"dot\", \"size\": 4, \"title\": \" From, NielsenIQ you have 2 connections. These are their positions: \\nOperations Associate \\nDA Delivery support intern \"}, {\"color\": \"#3449eb\", \"font\": {\"color\": \"white\"}, \"id\": \"Softcom Limited\", \"label\": \"Softcom Limited\", \"shape\": \"dot\", \"size\": 4, \"title\": \" From, Softcom Limited you have 2 connections. These are their positions: \\nProduct Manager, Learning and Development \\nInclusion intern\"}, {\"color\": \"#3449eb\", \"font\": {\"color\": \"white\"}, \"id\": \"Hebron Startup Lab\", \"label\": \"Hebron Startup Lab\", \"shape\": \"dot\", \"size\": 4, \"title\": \" From, Hebron Startup Lab you have 2 connections. These are their positions: \\nCommunity Manager \\nAdministrative Assistant\"}, {\"color\": \"#3449eb\", \"font\": {\"color\": \"white\"}, \"id\": \"Green Africa\", \"label\": \"Green Africa\", \"shape\": \"dot\", \"size\": 4, \"title\": \" From, Green Africa you have 2 connections. These are their positions: \\nFirst Officer \\nInformation Technology and Innovation Specialist\"}]);\n",
       "        edges = new vis.DataSet([{\"color\": \"grey\", \"from\": \"Me\", \"label\": 1, \"to\": \"Covenant University\", \"weight\": 1}, {\"color\": \"grey\", \"from\": \"Me\", \"label\": 1, \"to\": \"Huawei\", \"weight\": 1}, {\"color\": \"grey\", \"from\": \"Me\", \"label\": 1, \"to\": \"Nestl\\u00e9\", \"weight\": 1}, {\"color\": \"grey\", \"from\": \"Me\", \"label\": 1, \"to\": \"Aero Contractors of Nigeria Ltd\", \"weight\": 1}, {\"color\": \"grey\", \"from\": \"Me\", \"label\": 1, \"to\": \"Verraki Africa\", \"weight\": 1}, {\"color\": \"grey\", \"from\": \"Me\", \"label\": 1, \"to\": \"First Independent Power Limited Company\", \"weight\": 1}, {\"color\": \"grey\", \"from\": \"Me\", \"label\": 1, \"to\": \"Covenant University Finance Society (CUFS) \", \"weight\": 1}, {\"color\": \"grey\", \"from\": \"Me\", \"label\": 1, \"to\": \"Schlumberger\", \"weight\": 1}, {\"color\": \"grey\", \"from\": \"Me\", \"label\": 1, \"to\": \"KPMG Nigeria\", \"weight\": 1}, {\"color\": \"grey\", \"from\": \"Me\", \"label\": 1, \"to\": \"Tranos\", \"weight\": 1}, {\"color\": \"grey\", \"from\": \"Me\", \"label\": 1, \"to\": \"Infinion Technologies\", \"weight\": 1}, {\"color\": \"grey\", \"from\": \"Me\", \"label\": 1, \"to\": \"Helgg \", \"weight\": 1}, {\"color\": \"grey\", \"from\": \"Me\", \"label\": 1, \"to\": \"Deloitte\", \"weight\": 1}, {\"color\": \"grey\", \"from\": \"Me\", \"label\": 1, \"to\": \"EY\", \"weight\": 1}, {\"color\": \"grey\", \"from\": \"Me\", \"label\": 1, \"to\": \"Federal Mortgage Bank of Nigeria\", \"weight\": 1}, {\"color\": \"grey\", \"from\": \"Me\", \"label\": 1, \"to\": \"Nigerian Breweries Plc\", \"weight\": 1}, {\"color\": \"grey\", \"from\": \"Me\", \"label\": 1, \"to\": \"Stallion Motors\", \"weight\": 1}, {\"color\": \"grey\", \"from\": \"Me\", \"label\": 1, \"to\": \"KPMG\", \"weight\": 1}, {\"color\": \"grey\", \"from\": \"Me\", \"label\": 1, \"to\": \"Pertinence Group\", \"weight\": 1}, {\"color\": \"grey\", \"from\": \"Me\", \"label\": 1, \"to\": \"Amazon Web Services (AWS)\", \"weight\": 1}, {\"color\": \"grey\", \"from\": \"Me\", \"label\": 1, \"to\": \"Rehoboth Recruiters\", \"weight\": 1}, {\"color\": \"grey\", \"from\": \"Me\", \"label\": 1, \"to\": \"Mar\\u0026Mor Engineering Services Ltd\", \"weight\": 1}, {\"color\": \"grey\", \"from\": \"Me\", \"label\": 1, \"to\": \"Goldman Sachs\", \"weight\": 1}, {\"color\": \"grey\", \"from\": \"Me\", \"label\": 1, \"to\": \"Kohasa Engineering Company Limited\", \"weight\": 1}, {\"color\": \"grey\", \"from\": \"Me\", \"label\": 1, \"to\": \"Grow With Path\", \"weight\": 1}, {\"color\": \"grey\", \"from\": \"Me\", \"label\": 1, \"to\": \"Crown Interactive Limited\", \"weight\": 1}, {\"color\": \"grey\", \"from\": \"Me\", \"label\": 1, \"to\": \"Montessori International Group Of Schools (M.I.S) PH\", \"weight\": 1}, {\"color\": \"grey\", \"from\": \"Me\", \"label\": 1, \"to\": \"Chevron\", \"weight\": 1}, {\"color\": \"grey\", \"from\": \"Me\", \"label\": 1, \"to\": \"Aircom Nigeria Limited\", \"weight\": 1}, {\"color\": \"grey\", \"from\": \"Me\", \"label\": 1, \"to\": \"WorldQuant University\", \"weight\": 1}, {\"color\": \"grey\", \"from\": \"Me\", \"label\": 1, \"to\": \"Goldsprings High School\", \"weight\": 1}, {\"color\": \"grey\", \"from\": \"Me\", \"label\": 1, \"to\": \"UBA Group\", \"weight\": 1}, {\"color\": \"grey\", \"from\": \"Me\", \"label\": 1, \"to\": \"TeamApt\", \"weight\": 1}, {\"color\": \"grey\", \"from\": \"Me\", \"label\": 1, \"to\": \"Twitter\", \"weight\": 1}, {\"color\": \"grey\", \"from\": \"Me\", \"label\": 1, \"to\": \"B54\", \"weight\": 1}, {\"color\": \"grey\", \"from\": \"Me\", \"label\": 1, \"to\": \"Hamoye.com\", \"weight\": 1}, {\"color\": \"grey\", \"from\": \"Me\", \"label\": 1, \"to\": \"Ericsson\", \"weight\": 1}, {\"color\": \"grey\", \"from\": \"Me\", \"label\": 1, \"to\": \"Port Harcourt Electricity Distribution Company\", \"weight\": 1}, {\"color\": \"grey\", \"from\": \"Me\", \"label\": 1, \"to\": \"expertnaire\", \"weight\": 1}, {\"color\": \"grey\", \"from\": \"Me\", \"label\": 1, \"to\": \"FirstBank Nigeria\", \"weight\": 1}, {\"color\": \"grey\", \"from\": \"Me\", \"label\": 1, \"to\": \"ECOWAS Commission\", \"weight\": 1}, {\"color\": \"grey\", \"from\": \"Me\", \"label\": 1, \"to\": \"Enactus Nigeria\", \"weight\": 1}, {\"color\": \"grey\", \"from\": \"Me\", \"label\": 1, \"to\": \"Bolt\", \"weight\": 1}, {\"color\": \"grey\", \"from\": \"Me\", \"label\": 1, \"to\": \"Schneider Electric\", \"weight\": 1}, {\"color\": \"grey\", \"from\": \"Me\", \"label\": 1, \"to\": \"Rivers State University\", \"weight\": 1}, {\"color\": \"grey\", \"from\": \"Me\", \"label\": 1, \"to\": \"Foosion\", \"weight\": 1}, {\"color\": \"grey\", \"from\": \"Me\", \"label\": 1, \"to\": \"Sterling Bank Plc\", \"weight\": 1}, {\"color\": \"grey\", \"from\": \"Me\", \"label\": 1, \"to\": \"NielsenIQ\", \"weight\": 1}, {\"color\": \"grey\", \"from\": \"Me\", \"label\": 1, \"to\": \"Softcom Limited\", \"weight\": 1}, {\"color\": \"grey\", \"from\": \"Me\", \"label\": 1, \"to\": \"Hebron Startup Lab\", \"weight\": 1}, {\"color\": \"grey\", \"from\": \"Me\", \"label\": 1, \"to\": \"Green Africa\", \"weight\": 1}]);\n",
       "\n",
       "        // adding nodes and edges to the graph\n",
       "        data = {nodes: nodes, edges: edges};\n",
       "\n",
       "        var options = {\n",
       "    \"configure\": {\n",
       "        \"enabled\": false\n",
       "    },\n",
       "    \"edges\": {\n",
       "        \"color\": {\n",
       "            \"inherit\": true\n",
       "        },\n",
       "        \"smooth\": {\n",
       "            \"enabled\": true,\n",
       "            \"type\": \"dynamic\"\n",
       "        }\n",
       "    },\n",
       "    \"interaction\": {\n",
       "        \"dragNodes\": true,\n",
       "        \"hideEdgesOnDrag\": false,\n",
       "        \"hideNodesOnDrag\": false\n",
       "    },\n",
       "    \"physics\": {\n",
       "        \"enabled\": true,\n",
       "        \"hierarchicalRepulsion\": {\n",
       "            \"centralGravity\": 0.0,\n",
       "            \"damping\": 0.09,\n",
       "            \"nodeDistance\": 120,\n",
       "            \"springConstant\": 0.01,\n",
       "            \"springLength\": 100\n",
       "        },\n",
       "        \"solver\": \"hierarchicalRepulsion\",\n",
       "        \"stabilization\": {\n",
       "            \"enabled\": true,\n",
       "            \"fit\": true,\n",
       "            \"iterations\": 1000,\n",
       "            \"onlyDynamicEdges\": false,\n",
       "            \"updateInterval\": 50\n",
       "        }\n",
       "    }\n",
       "};\n",
       "        \n",
       "        \n",
       "\n",
       "        \n",
       "\n",
       "        network = new vis.Network(container, data, options);\n",
       "\t \n",
       "        \n",
       "\n",
       "\n",
       "        \n",
       "\n",
       "        return network;\n",
       "\n",
       "    }\n",
       "\n",
       "    drawGraph();\n",
       "\n",
       "</script>\n",
       "</body>\n",
       "</html>"
      ],
      "text/plain": [
       "<IPython.core.display.HTML object>"
      ]
     },
     "metadata": {},
     "output_type": "display_data"
    }
   ],
   "source": [
    "g = nx.Graph()\n",
    "g.add_node(\"Me\")\n",
    "\n",
    "for _, row in df_company_reduced.iterrows():\n",
    "\n",
    "    company = row[\"company\"]\n",
    "    count = row[\"count\"]\n",
    "\n",
    "    title = f\" From, {company} you have {count} connections. These are their positions: \\n\"\n",
    "    positions = set([x for x in df[company == df[\"company\"]][\"position\"]])\n",
    "    positions = ' \\n'.join(\"{}\".format(x) for x in positions)\n",
    "\n",
    "    position_list = f\"{positions}\"\n",
    "    hover_info = title + position_list\n",
    "\n",
    "    g.add_node(company, size = count*2, title = hover_info, color = \"#3449eb\")\n",
    "    g.add_edge(\"Me\", company, color = \"grey\")\n",
    "\n",
    "nt = net.Network(height = \"700px\", width = \"1000px\", bgcolor = \"black\", font_color = \"white\")\n",
    "nt.from_nx(g)\n",
    "nt.hrepulsion()\n",
    "\n",
    "nt.show(\"connections_company_graph.html\")\n",
    "display(HTML(\"connections_company_graph.html\"))\n"
   ]
  },
  {
   "cell_type": "markdown",
   "metadata": {},
   "source": [
    "## Visualize Positions Held by Connections"
   ]
  },
  {
   "cell_type": "code",
   "execution_count": 15,
   "metadata": {},
   "outputs": [
    {
     "data": {
      "text/html": [
       "<div>\n",
       "<style scoped>\n",
       "    .dataframe tbody tr th:only-of-type {\n",
       "        vertical-align: middle;\n",
       "    }\n",
       "\n",
       "    .dataframe tbody tr th {\n",
       "        vertical-align: top;\n",
       "    }\n",
       "\n",
       "    .dataframe thead th {\n",
       "        text-align: right;\n",
       "    }\n",
       "</style>\n",
       "<table border=\"1\" class=\"dataframe\">\n",
       "  <thead>\n",
       "    <tr style=\"text-align: right;\">\n",
       "      <th></th>\n",
       "      <th>position</th>\n",
       "      <th>count</th>\n",
       "    </tr>\n",
       "  </thead>\n",
       "  <tbody>\n",
       "    <tr>\n",
       "      <th>0</th>\n",
       "      <td>Intern</td>\n",
       "      <td>23</td>\n",
       "    </tr>\n",
       "    <tr>\n",
       "      <th>1</th>\n",
       "      <td>Software Engineer</td>\n",
       "      <td>16</td>\n",
       "    </tr>\n",
       "    <tr>\n",
       "      <th>2</th>\n",
       "      <td>Internship Trainee</td>\n",
       "      <td>11</td>\n",
       "    </tr>\n",
       "    <tr>\n",
       "      <th>3</th>\n",
       "      <td>Data Analyst</td>\n",
       "      <td>8</td>\n",
       "    </tr>\n",
       "    <tr>\n",
       "      <th>4</th>\n",
       "      <td>Product Designer</td>\n",
       "      <td>7</td>\n",
       "    </tr>\n",
       "    <tr>\n",
       "      <th>...</th>\n",
       "      <td>...</td>\n",
       "      <td>...</td>\n",
       "    </tr>\n",
       "    <tr>\n",
       "      <th>489</th>\n",
       "      <td>Robotics Engineer</td>\n",
       "      <td>1</td>\n",
       "    </tr>\n",
       "    <tr>\n",
       "      <th>490</th>\n",
       "      <td>Graduate Teaching Assistant</td>\n",
       "      <td>1</td>\n",
       "    </tr>\n",
       "    <tr>\n",
       "      <th>491</th>\n",
       "      <td>Postgraduate Student</td>\n",
       "      <td>1</td>\n",
       "    </tr>\n",
       "    <tr>\n",
       "      <th>492</th>\n",
       "      <td>Head Of Department, Mechanical Engineering</td>\n",
       "      <td>1</td>\n",
       "    </tr>\n",
       "    <tr>\n",
       "      <th>493</th>\n",
       "      <td>Administrator</td>\n",
       "      <td>1</td>\n",
       "    </tr>\n",
       "  </tbody>\n",
       "</table>\n",
       "<p>494 rows × 2 columns</p>\n",
       "</div>"
      ],
      "text/plain": [
       "                                       position  count\n",
       "0                                        Intern     23\n",
       "1                             Software Engineer     16\n",
       "2                            Internship Trainee     11\n",
       "3                                  Data Analyst      8\n",
       "4                              Product Designer      7\n",
       "..                                          ...    ...\n",
       "489                           Robotics Engineer      1\n",
       "490                 Graduate Teaching Assistant      1\n",
       "491                        Postgraduate Student      1\n",
       "492  Head Of Department, Mechanical Engineering      1\n",
       "493                               Administrator      1\n",
       "\n",
       "[494 rows x 2 columns]"
      ]
     },
     "execution_count": 15,
     "metadata": {},
     "output_type": "execute_result"
    }
   ],
   "source": [
    "# Aggregate position column.\n",
    "\n",
    "df_position = df[\"position\"].value_counts(ascending = False).reset_index()\n",
    "df_position.columns = [\"position\", \"count\"]\n",
    "df_position"
   ]
  },
  {
   "cell_type": "code",
   "execution_count": 16,
   "metadata": {},
   "outputs": [
    {
     "data": {
      "text/plain": [
       "(51, 2)"
      ]
     },
     "execution_count": 16,
     "metadata": {},
     "output_type": "execute_result"
    }
   ],
   "source": [
    "# Focus on positions with more than two counts.\n",
    "\n",
    "df_position_reduced = df_position.loc[df_company['count'] >= 2]\n",
    "df_position_reduced.shape"
   ]
  },
  {
   "cell_type": "code",
   "execution_count": 17,
   "metadata": {},
   "outputs": [
    {
     "data": {
      "text/html": [
       "connections_postion_graph.html"
      ],
      "text/plain": [
       "<IPython.core.display.HTML object>"
      ]
     },
     "metadata": {},
     "output_type": "display_data"
    }
   ],
   "source": [
    "g = nx.Graph()\n",
    "g.add_node(\"Me\")\n",
    "\n",
    "for _, row in df_position_reduced.iterrows():\n",
    "\n",
    "    position = row[\"position\"]\n",
    "    count = row[\"count\"]\n",
    "\n",
    "    title = f\" You arte connected to {count} people working as {position} in these companies: \\n\"\n",
    "    companies = set([x for x in df[position == df[\"position\"]][\"company\"]])\n",
    "    companies = ' \\n'.join(\"{}\".format(x) for x in companies)\n",
    "\n",
    "    companies_list = f\"{companies}\"\n",
    "    hover_info = title + companies_list\n",
    "\n",
    "    g.add_node(position, size = count*2, title = hover_info, color = \"#3449eb\")\n",
    "    g.add_edge(\"Me\", position, color = \"grey\")\n",
    "\n",
    "nt = net.Network(height = \"700px\", width = \"1000px\", bgcolor = \"black\", font_color = \"white\")\n",
    "nt.from_nx(g)\n",
    "nt.hrepulsion()\n",
    "\n",
    "nt.show(\"connections_position_graph.html\")\n",
    "display(HTML(\"connections_postion_graph.html\"))\n"
   ]
  }
 ],
 "metadata": {
  "kernelspec": {
   "display_name": "Python 3.9.5 64-bit",
   "language": "python",
   "name": "python3"
  },
  "language_info": {
   "codemirror_mode": {
    "name": "ipython",
    "version": 3
   },
   "file_extension": ".py",
   "mimetype": "text/x-python",
   "name": "python",
   "nbconvert_exporter": "python",
   "pygments_lexer": "ipython3",
   "version": "3.9.5"
  },
  "orig_nbformat": 4,
  "vscode": {
   "interpreter": {
    "hash": "ebb48f30bfa73a9d5390e3f2a2cc10771d9a6ee6f6564902336f4940eb1fe8fe"
   }
  }
 },
 "nbformat": 4,
 "nbformat_minor": 2
}
